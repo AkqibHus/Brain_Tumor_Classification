{
  "nbformat": 4,
  "nbformat_minor": 0,
  "metadata": {
    "colab": {
      "provenance": []
    },
    "kernelspec": {
      "name": "python3",
      "display_name": "Python 3"
    },
    "language_info": {
      "name": "python"
    }
  },
  "cells": [
    {
      "cell_type": "code",
      "execution_count": 11,
      "metadata": {
        "id": "8LfkIP9Vrorg"
      },
      "outputs": [],
      "source": [
        "import pandas as pd\n",
        "import numpy as np\n",
        "import matplotlib.pyplot as plt\n",
        "import os, shutil\n",
        "import cv2\n",
        "import matplotlib.image as mp\n",
        "import seaborn as sns\n",
        "%matplotlib inline\n",
        "plt.style.use('ggplot')"
      ]
    },
    {
      "cell_type": "code",
      "source": [
        "# Dataset\n",
        "import zipfile\n",
        "\n",
        "z = zipfile.ZipFile('archive.zip')\n",
        "z.extractall()"
      ],
      "metadata": {
        "id": "pmXM3G3hs9-g"
      },
      "execution_count": 12,
      "outputs": []
    },
    {
      "cell_type": "code",
      "source": [
        "folder = 'brain_tumor_dataset/yes/'\n",
        "count = 1\n",
        "for i in os.listdir(folder):\n",
        "  source = folder + i\n",
        "  destination = folder + \"Y_\" + str(count)+\".jpg\"\n",
        "  os.rename(source, destination)\n",
        "  count += 1\n",
        "print(\"All files are renamed in the yes dir.\")"
      ],
      "metadata": {
        "colab": {
          "base_uri": "https://localhost:8080/"
        },
        "id": "bZ_r7DJdwLbJ",
        "outputId": "4e51e0b9-a5b2-476c-f0fd-c4d3b6fb83b1"
      },
      "execution_count": 14,
      "outputs": [
        {
          "output_type": "stream",
          "name": "stdout",
          "text": [
            "All files are renamed in the yes dir.\n"
          ]
        }
      ]
    },
    {
      "cell_type": "code",
      "source": [
        "folder = 'brain_tumor_dataset/no/'\n",
        "count = 1\n",
        "for i in os.listdir(folder):\n",
        "  source = folder + i\n",
        "  destination = folder + \"N_\" + str(count)+\".jpg\"\n",
        "  os.rename(source, destination)\n",
        "  count += 1\n",
        "print(\"All files are renamed in the no dir.\")"
      ],
      "metadata": {
        "colab": {
          "base_uri": "https://localhost:8080/"
        },
        "id": "3P7e3Bczw4AV",
        "outputId": "8fac0daf-995e-4610-8a0b-1949eebce664"
      },
      "execution_count": 15,
      "outputs": [
        {
          "output_type": "stream",
          "name": "stdout",
          "text": [
            "All files are renamed in the no dir.\n"
          ]
        }
      ]
    },
    {
      "cell_type": "code",
      "source": [
        "# EDA(Exploratory Data Analysis)"
      ],
      "metadata": {
        "id": "f7N05-jtzGoP"
      },
      "execution_count": 16,
      "outputs": []
    },
    {
      "cell_type": "code",
      "source": [
        "listyes = os.listdir(\"brain_tumor_dataset/yes/\")\n",
        "number_files_yes = len(listyes)\n",
        "print(number_files_yes)\n",
        "\n",
        "listno = os.listdir(\"brain_tumor_dataset/no/\")\n",
        "number_files_no = len(listno)\n",
        "print(number_files_no)"
      ],
      "metadata": {
        "colab": {
          "base_uri": "https://localhost:8080/"
        },
        "id": "IQLIHPAzzUwn",
        "outputId": "8fca12bc-e0b0-4623-c389-16cb78cfaa62"
      },
      "execution_count": 17,
      "outputs": [
        {
          "output_type": "stream",
          "name": "stdout",
          "text": [
            "83\n",
            "98\n"
          ]
        }
      ]
    },
    {
      "cell_type": "code",
      "source": [
        "# PLot"
      ],
      "metadata": {
        "id": "hRgijRTrTXvo"
      },
      "execution_count": 18,
      "outputs": []
    },
    {
      "cell_type": "code",
      "source": [
        "data = {'tumorous' : number_files_yes, 'non-tumorous': number_files_no}\n",
        "\n",
        "typex = data.keys()\n",
        "values = data.values()\n",
        "\n",
        "fig = plt.figure(figsize=(5,7))\n",
        "\n",
        "plt.bar(typex, values, color=\"blue\")\n",
        "\n",
        "plt.xlabel(\"Data\")\n",
        "plt.ylabel(\"No of Brain Tumor Images\")\n",
        "plt.title(\"Count of Brain Tumor Images\")\n",
        "\n",
        "plt.show()"
      ],
      "metadata": {
        "colab": {
          "base_uri": "https://localhost:8080/",
          "height": 646
        },
        "id": "vIdG-BqPULPU",
        "outputId": "bcbe1525-fc98-4828-8c07-7e6c936246d2"
      },
      "execution_count": 25,
      "outputs": [
        {
          "output_type": "display_data",
          "data": {
            "text/plain": [
              "<Figure size 500x700 with 1 Axes>"
            ],
            "image/png": "[encoded data removed]"
          },
          "metadata": {}
        }
      ]
    },
    {
      "cell_type": "code",
      "source": [
        " # Data Augumentation\n",
        "83, 98\n",
        "# imbalance"
      ],
      "metadata": {
        "colab": {
          "base_uri": "https://localhost:8080/"
        },
        "id": "SfNOvVVeVo--",
        "outputId": "188e8a1a-e47c-4e6b-d2b3-1ac511825eb1"
      },
      "execution_count": 26,
      "outputs": [
        {
          "output_type": "execute_result",
          "data": {
            "text/plain": [
              "(83, 98)"
            ]
          },
          "metadata": {},
          "execution_count": 26
        }
      ]
    },
    {
      "cell_type": "code",
      "source": [
        "import tensorflow as tf\n",
        "from tensorflow.keras.preprocessing.image import ImageDataGenerator\n",
        "from tensorflow.keras.models import Model\n",
        "from tensorflow.keras.layers import Flatten, Dense, Dropout\n",
        "from tensorflow.keras.applications.vgg19 import VGG19\n",
        "from tensorflow.keras.optimizers import SGD, Adam\n",
        "from tensorflow.keras.callbacks import ModelCheckpoint, EarlyStopping, ReduceLROnPlateau\n"
      ],
      "metadata": {
        "id": "a2bW4Ux4WlhW"
      },
      "execution_count": 31,
      "outputs": []
    },
    {
      "cell_type": "code",
      "source": [
        "def timing(sec_elapsed_):\n",
        "  h = int(sec_elapsed_ / (60 * 60))\n",
        "  m = int((sec_elapsed_ % (60 * 60)) / 60)\n",
        "  s = sec_elapsed_ % 60\n",
        "\n",
        "  return f\"{h}:{m}:{round(s,1)}\""
      ],
      "metadata": {
        "id": "S83UWjPAagEw"
      },
      "execution_count": 43,
      "outputs": []
    },
    {
      "cell_type": "code",
      "source": [
        "def augmentated_data(file_dir, n_generated_samples, save_to_dir):\n",
        "  data_gen = ImageDataGenerator(rotation_range = 10,\n",
        "                     width_shift_range =0.1,\n",
        "                     shear_range=0.1,\n",
        "                     brightness_range=(0.3,1.0),\n",
        "                     horizontal_flip = True,\n",
        "                     vertical_flip = True,\n",
        "                     fill_mode='nearest')\n",
        "  for filename in os.listdir(file_dir):\n",
        "    image = cv2.imread(file_dir + '/' + filename)\n",
        "    image = image.reshape((1,)+ image.shape)\n",
        "    save_prefix = 'aug_' + filename[:-4]\n",
        "    i = 0\n",
        "    for batch in data_gen.flow(x = image, batch_size = 1, save_to_dir =  save_to_dir, save_prefix = save_prefix, save_format = \"jpg\"):\n",
        "      i += 1\n",
        "      if i > n_generated_samples:\n",
        "        break\n",
        "    cv2.imread(file_dir + '/' + filename)\n",
        "    image = image.reshape((1,)+ image.shape)\n",
        "    save_prefix = 'aug_' + filename[:-4]\n",
        "    i = 0\n",
        "    for batch in data_gen.flow(x = image, batch_size = 1, save_to_dir =  save_to_dir, save_prefix = save_prefix, save_format = \"jpg\"):\n",
        "      i += 1\n",
        "      if i > n_generated_samples:\n",
        "        break"
      ],
      "metadata": {
        "id": "9DS6U4hfYopv"
      },
      "execution_count": 42,
      "outputs": []
    },
    {
      "cell_type": "code",
      "source": [
        "import time\n",
        "start_time = time.time()\n",
        "yes_path = 'brain_tumor_dataset/yes'\n",
        "no_path = 'brain_tumor_dataset/no'\n",
        "\n",
        "augmented_data_path = 'augmented_data/'\n",
        "\n",
        "augumented_data(file_dir = yes_path, n_generated_samples = 6,save_to_dir= augmented_data_path + 'yes')\n",
        "augumented_data(file_dir = no_path, n_generated_samples = 9,save_to_dir= augmented_data_path + 'no')\n",
        "\n",
        "end_time = time.time()\n",
        "execution_time = (end_time - start_time)\n",
        "print(timing(execution_time))\n"
      ],
      "metadata": {
        "id": "1Kgkna5ckiK-"
      },
      "execution_count": null,
      "outputs": []
    },
    {
      "cell_type": "code",
      "source": [
        "def data_summary(main_oath):\n",
        "  yes_path = \"augmented_data/yes/\"\n",
        "    no_path = \"augmented_data/no/\"\n",
        "\n",
        "    n_pos = len(os.listdir(yes_path))\n",
        "    n_neg = len(os.listdir(no_path))\n",
        "\n",
        "    n = (n_pos + n_neg)\n",
        "\n",
        "    pos_per = (n_pos*100)/n\n",
        "    neg_per = (n_neg*100)/n\n",
        "\n",
        "    print(f\"Number of sample: {n}\")\n",
        "    print(f\"{n_pos} Number of positive sample in percentage: {pos_per}%\")\n",
        "    print(f\"{n_neg} Number of negative sample in percentage: {neg_per}%\")"
      ],
      "metadata": {
        "id": "kApOZLb-mtIc"
      },
      "execution_count": null,
      "outputs": []
    },
    {
      "cell_type": "code",
      "source": [
        "data_summary(augmented_data_path)"
      ],
      "metadata": {
        "id": "gCUvav10l3p4"
      },
      "execution_count": null,
      "outputs": []
    },
    {
      "cell_type": "code",
      "source": [
        "listyes = os.listdir(\"augmented_data/yes/\")\n",
        "number_files_yes = len(listyes)\n",
        "print(number_files_yes)\n",
        "\n",
        "listno = os.listdir(\"augmented_data/no/\")\n",
        "number_files_no = len(listno)\n",
        "print(number_files_no)"
      ],
      "metadata": {
        "id": "0XwDHdhil3sw"
      },
      "execution_count": null,
      "outputs": []
    },
    {
      "cell_type": "code",
      "source": [
        "data = {'tumorous': number_files_yes, 'non-tumorous': number_files_no}\n",
        "\n",
        "typex = data.keys()\n",
        "values = data.values()\n",
        "\n",
        "fig = plt.figure(figsize=(5,7))\n",
        "\n",
        "plt.bar(typex, values, color=\"red\")\n",
        "\n",
        "plt.xlabel(\"Data\")\n",
        "plt.ylabel(\"No of Brain Tumor Images\")\n",
        "plt.title(\"Count of Brain Tumor Images\")\n",
        "plt.show()"
      ],
      "metadata": {
        "id": "yGvVeFSJl3vc"
      },
      "execution_count": null,
      "outputs": []
    },
    {
      "cell_type": "code",
      "source": [
        "# Data Preprocessing"
      ],
      "metadata": {
        "id": "zrNteKMzGEf_"
      },
      "execution_count": null,
      "outputs": []
    },
    {
      "cell_type": "code",
      "source": [
        "# Convert BGR TO GRAY\n",
        "# GaussianBlur\n",
        "# Threshold\n",
        "# Erode\n",
        "# Dilate\n",
        "# Find Contours"
      ],
      "metadata": {
        "id": "9vtBW7N-GE3z"
      },
      "execution_count": null,
      "outputs": []
    },
    {
      "cell_type": "code",
      "source": [
        "import imutils\n",
        "def crop_brain_tumor(image, plot=False):\n",
        "    gray = cv2.cvtColor(image, cv2.COLOR_BGR2GRAY)\n",
        "    gray = cv2.GaussianBlur(gray, (5,5), 0)\n",
        "\n",
        "    thres = cv2.threshold(gray, 45, 255, cv2.THRESH_BINARY)[1]\n",
        "    thres =cv2.erode(thres, None, iterations = 2)\n",
        "    thres = cv2.dilate(thres, None, iterations = 2)\n",
        "\n",
        "    cnts = cv2.findContours(thres.copy(), cv2.RETR_EXTERNAL, cv2.CHAIN_APPROX_SIMPLE)\n",
        "    cnts = imutils.grab_contours(cnts)\n",
        "    c = max(cnts, key = cv2.contourArea)\n",
        "\n",
        "    extLeft = tuple(c[c[:,:,0].argmin()][0])\n",
        "    extRight = tuple(c[c[:,:,0].argmax()][0])\n",
        "    extTop = tuple(c[c[:,:,1].argmin()][0])\n",
        "    extBot = tuple(c[c[:,:,1].argmax()][0])\n",
        "\n",
        "    new_image = image[extTop[1]:extBot[1], extLeft[0]:extRight[0]]\n",
        "\n",
        "    if plot:\n",
        "        plt.figure()\n",
        "        plt.subplot(1, 2, 1)\n",
        "        plt.imshow(image)\n",
        "\n",
        "        plt.tick_params(axis='both', which='both',\n",
        "                        top=False, bottom=False, left=False, right=False,\n",
        "                        labelbottom=False, labeltop=False, labelleft=False, labelright=False)\n",
        "\n",
        "        plt.title('Original Image')\n",
        "\n",
        "        plt.subplot(1, 2, 2)\n",
        "        plt.imshow(new_image)\n",
        "\n",
        "        plt.tick_params(axis='both', which='both',\n",
        "                        top=False, bottom=False, left=False, right=False,\n",
        "                        labelbottom=False, labeltop=False, labelleft=False, labelright=False)\n",
        "\n",
        "        plt.title('Cropped Image')\n",
        "        plt.show()\n",
        "    return new_image\n",
        ""
      ],
      "metadata": {
        "id": "u1pEMy96GJ8e"
      },
      "execution_count": null,
      "outputs": []
    },
    {
      "cell_type": "code",
      "source": [
        "img = cv2.imread('augmented_data/yes/aug_Y_1_0_1760.jpg')\n",
        "crop_brain_tumor(img, True)"
      ],
      "metadata": {
        "id": "bapvqbC5GP2A"
      },
      "execution_count": null,
      "outputs": []
    },
    {
      "cell_type": "code",
      "source": [
        "img = cv2.imread('augmented_data/no/aug_N_1_0_109.jpg')\n",
        "crop_brain_tumor(img, True)"
      ],
      "metadata": {
        "id": "EHw6e4voGeVw"
      },
      "execution_count": null,
      "outputs": []
    },
    {
      "cell_type": "code",
      "source": [
        "folder1 = 'augmented_data/no/'\n",
        "folder2 = 'augmented_data/yes/'\n",
        "\n",
        "for filename in os.listdir(folder1):\n",
        "    img = cv2.imread(folder1 + filename)\n",
        "    img = crop_brain_tumor(img, False)\n",
        "    cv2.imwrite(folder1 + filename, img)\n",
        "for filename in os.listdir(folder2):\n",
        "    img = cv2.imread(folder2 + filename)\n",
        "    img = crop_brain_tumor(img, False)\n",
        "    cv2.imwrite(folder2 + filename, img)"
      ],
      "metadata": {
        "id": "lAdc_Y7zGgfw"
      },
      "execution_count": null,
      "outputs": []
    },
    {
      "cell_type": "code",
      "source": [
        "# image loading"
      ],
      "metadata": {
        "id": "ODq5TdMDGkkg"
      },
      "execution_count": null,
      "outputs": []
    },
    {
      "cell_type": "code",
      "source": [
        "from sklearn.utils import shuffle\n",
        "def load_data(dir_list, image_size):\n",
        "    X=[]\n",
        "    y=[]\n",
        "\n",
        "    image_width, image_height=image_size\n",
        "\n",
        "    for directory in dir_list:\n",
        "        for filename in os.listdir(directory):\n",
        "            image = cv2.imread(directory + '/' + filename)\n",
        "            image = crop_brain_tumor(image, plot=False)\n",
        "            image = cv2.resize(image, dsize=(image_width, image_height), interpolation = cv2.INTER_CUBIC)\n",
        "            image = image/255.00\n",
        "            X.append(image)\n",
        "            if directory[-3:] == \"yes\":\n",
        "                y.append(1)\n",
        "            else:\n",
        "                y.append(0)\n",
        "    X=np.array(X)\n",
        "    y=np.array(y)\n",
        "\n",
        "    X,y = shuffle(X,y)\n",
        "    print(f\"Number of example is : {len(X)}\")\n",
        "    print(f\"X SHAPE is : {X.shape}\")\n",
        "    print(f\"y SHAPE is : {y.shape}\")\n",
        "    return X,y"
      ],
      "metadata": {
        "id": "LH8ywPFAGvFi"
      },
      "execution_count": null,
      "outputs": []
    },
    {
      "cell_type": "code",
      "source": [
        "augmented_path = 'augmented_data/'\n",
        "augmeneted_yes = augmented_path + 'yes'\n",
        "augmeneted_no = augmented_path + 'no'\n",
        "\n",
        "IMAGE_WIDTH, IMAGE_HEIGHT = (240,240)\n",
        "\n",
        "X,y = load_data([augmeneted_yes, augmeneted_no], (IMAGE_WIDTH, IMAGE_HEIGHT))"
      ],
      "metadata": {
        "id": "Ezni1TxFGyX_"
      },
      "execution_count": null,
      "outputs": []
    },
    {
      "cell_type": "code",
      "source": [
        "def plot_sample_images(X, y, n=50):\n",
        "\n",
        "    for label in [0,1]:\n",
        "        images = X[np.argwhere(y == label)]\n",
        "        n_images = images[:n]\n",
        "\n",
        "        columns_n = 10\n",
        "        rows_n = int(n/ columns_n)\n",
        "\n",
        "        plt.figure(figsize=(20, 10))\n",
        "\n",
        "        i = 1\n",
        "        for image in n_images:\n",
        "            plt.subplot(rows_n, columns_n, i)\n",
        "            plt.imshow(image[0])\n",
        "\n",
        "            plt.tick_params(axis='both', which='both',\n",
        "                            top=False, bottom=False, left=False, right=False,\n",
        "                            labelbottom=False, labeltop=False, labelleft=False,\n",
        "                            labelright=False)\n",
        "\n",
        "            i += 1\n",
        "\n",
        "        label_to_str = lambda label: \"Yes\" if label == 1 else \"No\"\n",
        "        plt.suptitle(f\"Brain Tumor: {label_to_str(label)}\")\n",
        "        plt.show()"
      ],
      "metadata": {
        "id": "eBGsJhs_G15M"
      },
      "execution_count": null,
      "outputs": []
    },
    {
      "cell_type": "code",
      "source": [
        "plot_sample_images(X,y)"
      ],
      "metadata": {
        "id": "-azXNr_GG5nr"
      },
      "execution_count": null,
      "outputs": []
    },
    {
      "cell_type": "code",
      "source": [
        "# Data Spliting\n",
        "# Train\n",
        "# Test\n",
        "# Validation"
      ],
      "metadata": {
        "id": "Zjk3rwJVG7mT"
      },
      "execution_count": null,
      "outputs": []
    },
    {
      "cell_type": "code",
      "source": [
        "if not os.path.isdir('tumorous_and_nontumorous'):\n",
        "    base_dir = 'tumorous_and_nontumorous'\n",
        "    os.mkdir(base_dir)"
      ],
      "metadata": {
        "id": "LSxy6YqfG_Id"
      },
      "execution_count": null,
      "outputs": []
    },
    {
      "cell_type": "code",
      "source": [
        "if not os.path.isdir('tumorous_and_nontumorous/train'):\n",
        "    train_dir = os.path.join(base_dir , 'train')\n",
        "    os.mkdir(train_dir)\n",
        "if not os.path.isdir('tumorous_and_nontumorous/test'):\n",
        "    test_dir = os.path.join(base_dir , 'test')\n",
        "    os.mkdir(test_dir)\n",
        "if not os.path.isdir('tumorous_and_nontumorous/valid'):\n",
        "    valid_dir = os.path.join(base_dir , 'valid')\n",
        "    os.mkdir(valid_dir)"
      ],
      "metadata": {
        "id": "5mDAHj68HBDC"
      },
      "execution_count": null,
      "outputs": []
    },
    {
      "cell_type": "code",
      "source": [
        "if not os.path.isdir('tumorous_and_nontumorous/train/tumorous'):\n",
        "    infected_train_dir = os.path.join(train_dir, 'tumorous')\n",
        "    os.mkdir(infected_train_dir)\n",
        "if not os.path.isdir('tumorous_and_nontumorous/test/tumorous'):\n",
        "    infected_test_dir = os.path.join(test_dir, 'tumorous')\n",
        "    os.mkdir(infected_test_dir)\n",
        "if not os.path.isdir('tumorous_and_nontumorous/valid/tumorous'):\n",
        "    infected_valid_dir = os.path.join(valid_dir, 'tumorous')\n",
        "    os.mkdir(infected_valid_dir)"
      ],
      "metadata": {
        "id": "_FzfFWVLHD-x"
      },
      "execution_count": null,
      "outputs": []
    },
    {
      "cell_type": "code",
      "source": [
        "if not os.path.isdir('tumorous_and_nontumorous/train/nontumorous'):\n",
        "    healthy_train_dir = os.path.join(train_dir, 'nontumorous')\n",
        "    os.mkdir(healthy_train_dir)\n",
        "if not os.path.isdir('tumorous_and_nontumorous/test/nontumorous'):\n",
        "    healthy_test_dir = os.path.join(test_dir, 'nontumorous')\n",
        "    os.mkdir(healthy_test_dir)\n",
        "if not os.path.isdir('tumorous_and_nontumorous/valid/nontumorous'):\n",
        "    healthy_valid_dir = os.path.join(valid_dir, 'nontumorous')\n",
        "    os.mkdir(healthy_valid_dir)"
      ],
      "metadata": {
        "id": "X6PF1FE_HF-w"
      },
      "execution_count": null,
      "outputs": []
    },
    {
      "cell_type": "code",
      "source": [
        "original_dataset_tumorours = os.path.join('augmented_data','yes/')\n",
        "original_dataset_nontumorours = os.path.join('augmented_data','no/')"
      ],
      "metadata": {
        "id": "ocysIRoAHJH4"
      },
      "execution_count": null,
      "outputs": []
    },
    {
      "cell_type": "code",
      "source": [
        "files = os.listdir('augmented_data/yes/')\n",
        "fnames = []\n",
        "for i in range(0,759):\n",
        "    fnames.append(files[i])\n",
        "for fname in fnames:\n",
        "    src = os.path.join(original_dataset_tumorours, fname)\n",
        "    dst = os.path.join(infected_train_dir, fname)\n",
        "    shutil.copyfile(src, dst)"
      ],
      "metadata": {
        "id": "vNBE5rlhHO_K"
      },
      "execution_count": null,
      "outputs": []
    },
    {
      "cell_type": "code",
      "source": [
        "files = os.listdir('augmented_data/yes/')\n",
        "fnames = []\n",
        "for i in range(759,922):\n",
        "    fnames.append(files[i])\n",
        "for fname in fnames:\n",
        "    src = os.path.join(original_dataset_tumorours, fname)\n",
        "    dst = os.path.join(infected_test_dir, fname)\n",
        "    shutil.copyfile(src, dst)"
      ],
      "metadata": {
        "id": "uVKg0MJuHSEs"
      },
      "execution_count": null,
      "outputs": []
    },
    {
      "cell_type": "code",
      "source": [
        "files = os.listdir('augmented_data/yes/')\n",
        "fnames = []\n",
        "for i in range(922,1085):\n",
        "    fnames.append(files[i])\n",
        "for fname in fnames:\n",
        "    src = os.path.join(original_dataset_tumorours, fname)\n",
        "    dst = os.path.join(infected_valid_dir, fname)\n",
        "    shutil.copyfile(src, dst)"
      ],
      "metadata": {
        "id": "Ahvesq4-HUD8"
      },
      "execution_count": null,
      "outputs": []
    },
    {
      "cell_type": "code",
      "source": [
        "# 80% 10% 10%"
      ],
      "metadata": {
        "id": "iGHtSpEuHXsU"
      },
      "execution_count": null,
      "outputs": []
    },
    {
      "cell_type": "code",
      "source": [
        "files = os.listdir('augmented_data/no/')\n",
        "fnames = []\n",
        "for i in range(0,686):\n",
        "    fnames.append(files[i])\n",
        "for fname in fnames:\n",
        "    src = os.path.join(original_dataset_nontumorours, fname)\n",
        "    dst = os.path.join(healthy_train_dir, fname)\n",
        "    shutil.copyfile(src, dst)"
      ],
      "metadata": {
        "id": "WQOmMNwyHZzc"
      },
      "execution_count": null,
      "outputs": []
    },
    {
      "cell_type": "code",
      "source": [
        "files = os.listdir('augmented_data/no/')\n",
        "fnames = []\n",
        "for i in range(686,833):\n",
        "    fnames.append(files[i])\n",
        "for fname in fnames:\n",
        "    src = os.path.join(original_dataset_nontumorours, fname)\n",
        "    dst = os.path.join(healthy_test_dir, fname)\n",
        "    shutil.copyfile(src, dst)"
      ],
      "metadata": {
        "id": "He6Q_uVWHm7k"
      },
      "execution_count": null,
      "outputs": []
    },
    {
      "cell_type": "code",
      "source": [
        "files = os.listdir('augmented_data/no/')\n",
        "fnames = []\n",
        "for i in range(833,979):\n",
        "    fnames.append(files[i])\n",
        "for fname in fnames:\n",
        "    src = os.path.join(original_dataset_nontumorours, fname)\n",
        "    dst = os.path.join(healthy_valid_dir, fname)\n",
        "    shutil.copyfile(src, dst)"
      ],
      "metadata": {
        "id": "CR-V_x-cHo8V"
      },
      "execution_count": null,
      "outputs": []
    },
    {
      "cell_type": "code",
      "source": [
        "# Model Buliding"
      ],
      "metadata": {
        "id": "Jfehy2-JHrtJ"
      },
      "execution_count": null,
      "outputs": []
    },
    {
      "cell_type": "code",
      "source": [
        "train_datagen = ImageDataGenerator(rescale = 1./255,\n",
        "                  horizontal_flip=0.4,\n",
        "                  vertical_flip=0.4,\n",
        "                  rotation_range=40,\n",
        "                  shear_range=0.2,\n",
        "                  width_shift_range=0.4,\n",
        "                  height_shift_range=0.4,\n",
        "                  fill_mode='nearest')\n",
        "test_data_gen = ImageDataGenerator(rescale=1.0/255)\n",
        "valid_data_gen = ImageDataGenerator(rescale=1.0/255)"
      ],
      "metadata": {
        "id": "p29h_PFlHtYT"
      },
      "execution_count": null,
      "outputs": []
    },
    {
      "cell_type": "code",
      "source": [
        "train_generator = train_datagen.flow_from_directory('tumorous_and_nontumorous/train/', batch_size=32, target_size=(240,240), class_mode='categorical',shuffle=True, seed = 42, color_mode = 'rgb')"
      ],
      "metadata": {
        "id": "EaVkdVgdHv9-"
      },
      "execution_count": null,
      "outputs": []
    },
    {
      "cell_type": "code",
      "source": [
        "test_generator = train_datagen.flow_from_directory('tumorous_and_nontumorous/test/', batch_size=32, target_size=(240,240), class_mode='categorical',shuffle=True, seed = 42, color_mode = 'rgb')"
      ],
      "metadata": {
        "id": "hJ3NGBVKHya_"
      },
      "execution_count": null,
      "outputs": []
    },
    {
      "cell_type": "code",
      "source": [
        "valid_generator = train_datagen.flow_from_directory('tumorous_and_nontumorous/valid/', batch_size=32, target_size=(240,240), class_mode='categorical',shuffle=True, seed = 42, color_mode = 'rgb')"
      ],
      "metadata": {
        "id": "ADUXa49JH1_3"
      },
      "execution_count": null,
      "outputs": []
    },
    {
      "cell_type": "code",
      "source": [
        "class_labels = train_generator.class_indices\n",
        "class_name = {value: key for (key,value) in class_labels.items()}"
      ],
      "metadata": {
        "id": "ONjUaFHKH8ml"
      },
      "execution_count": null,
      "outputs": []
    },
    {
      "cell_type": "code",
      "source": [
        "class_name"
      ],
      "metadata": {
        "id": "0N7G350-IAPk"
      },
      "execution_count": null,
      "outputs": []
    },
    {
      "cell_type": "code",
      "source": [
        "base_model = VGG19(input_shape = (240,240,3), include_top=False, weights='imagenet')\n",
        "\n",
        "for layer in base_model.layers:\n",
        "    layer.trainable=False\n",
        "\n",
        "x=base_model.output\n",
        "flat = Flatten()(x)\n",
        "\n",
        "class_1 = Dense(4608, activation = 'relu')(flat)\n",
        "drop_out = Dropout(0.2)(class_1)\n",
        "class_2 = Dense(1152, activation = 'relu')(drop_out)\n",
        "output = Dense(2, activation = 'softmax')(class_2)\n",
        "\n",
        "model_01 = Model(base_model.input, output)\n",
        "model_01.summary()"
      ],
      "metadata": {
        "id": "hgChL1shICrQ"
      },
      "execution_count": null,
      "outputs": []
    },
    {
      "cell_type": "code",
      "source": [
        "# callback\n",
        "filepath = 'model.h5'\n",
        "es = EarlyStopping(monitor='val_loss', verbose = 1, mode='min',patience=4)\n",
        "cp = ModelCheckpoint(filepath, monitor='val_loss', verbose = 1, save_best_only=True, save_weights_only=False, mode='auto',save_freq='epoch')\n",
        "lrr = ReduceLROnPlateau(monitor='val_accuarcy', patience=3, verbose = 1, factor = 0.5, min_lr = 0.0001)"
      ],
      "metadata": {
        "id": "foat3S8iIGhl"
      },
      "execution_count": null,
      "outputs": []
    },
    {
      "cell_type": "code",
      "source": [
        "sgd = SGD(learning_rate=0.0001, decay = 1e-6, momentum = 0.9, nesterov = True)\n",
        "model_01.compile(loss='categorical_crossentropy', optimizer = sgd, metrics=['accuracy'])"
      ],
      "metadata": {
        "id": "oMU0D-EgIJq1"
      },
      "execution_count": null,
      "outputs": []
    },
    {
      "cell_type": "code",
      "source": [
        "history_01 = model_01.fit(train_generator, steps_per_epoch=10, epochs = 2, callbacks=[es,cp,lrr], validation_data=valid_generator)"
      ],
      "metadata": {
        "id": "qCH-TpLQIMqo"
      },
      "execution_count": null,
      "outputs": []
    },
    {
      "cell_type": "code",
      "source": [
        "# Plot performance\n",
        "fig, (ax1,ax2) = plt.subplots(nrows=1, ncols=2, figsize=(12,6))\n",
        "fig.suptitle(\"Model Training (Frozen CNN)\", fontsize=12)\n",
        "max_epoch = len(history_01.history['accuracy'])+1\n",
        "epochs_list = list(range(1, max_epoch))\n",
        "\n",
        "ax1.plot(epochs_list, history_01.history['accuracy'], color='b', linestyle='-', label='Training Data')\n",
        "ax1.plot(epochs_list, history_01.history['val_accuracy'], color='r', linestyle='-', label='Validation Data')\n",
        "ax1.set_title('Training Accuracy', fontsize=12)\n",
        "ax1.set_xlabel('Epochs', fontsize=12)\n",
        "ax1.set_ylabel('Accuracy', fontsize=12)\n",
        "ax1.legend(frameon=False, loc='lower center', ncol=2)\n",
        "\n",
        "ax2.plot(epochs_list, history_01.history['loss'], color='b', linestyle='-', label='Training Data')\n",
        "ax2.plot(epochs_list, history_01.history['val_loss'], color='r', linestyle='-', label='Validation Data')\n",
        "ax2.set_title('Training Loss', fontsize=12)\n",
        "ax2.set_xlabel('Epochs', fontsize=12)\n",
        "ax2.set_ylabel('Loss', fontsize=12)\n",
        "ax2.legend(frameon=False, loc='upper center', ncol=2)\n",
        "plt.savefig(\"training_frozencnn.jpeg\", format='jpeg', dpi=100, bbox_inches='tight')"
      ],
      "metadata": {
        "id": "-EEgWreKIP72"
      },
      "execution_count": null,
      "outputs": []
    },
    {
      "cell_type": "code",
      "source": [
        "if not os.path.isdir('model_weights/'):\n",
        "    os.mkdir('model_weights/')\n",
        "model_01.save_weights(filepath=\"model_weights/vgg19_model_01.h5\", overwrite=True)"
      ],
      "metadata": {
        "id": "nBFnoiVAITxV"
      },
      "execution_count": null,
      "outputs": []
    },
    {
      "cell_type": "code",
      "source": [
        "model_01.load_weights(\"model_weights/vgg19_model_01.h5\")\n",
        "vgg_val_eval_01 = model_01.evaluate(valid_generator)\n",
        "vgg_test_eval_01 = model_01.evaluate(test_generator)"
      ],
      "metadata": {
        "id": "sf6bOgUVIXI1"
      },
      "execution_count": null,
      "outputs": []
    },
    {
      "cell_type": "code",
      "source": [
        "print(f'Validation Loss: {vgg_val_eval_01[0]}')\n",
        "print(f'Validation Acc: {vgg_val_eval_01[1]}')\n",
        "print(f'Testing Loss: {vgg_test_eval_01[0]}')\n",
        "print(f'Testing Acc: {vgg_test_eval_01[1]}')"
      ],
      "metadata": {
        "id": "2jU4mW-gIZu-"
      },
      "execution_count": null,
      "outputs": []
    },
    {
      "cell_type": "code",
      "source": [
        "filenames = test_generator.filenames\n",
        "nb_sample = len(filenames)\n",
        "\n",
        "vgg_prediction_01 = model_01.predict(test_generator, steps=nb_sample, verbose = 1)\n",
        "y_pred = np.argmax(vgg_prediction_01, axis=1)"
      ],
      "metadata": {
        "id": "55jcR_bbIbZ4"
      },
      "execution_count": null,
      "outputs": []
    },
    {
      "cell_type": "code",
      "source": [
        "# Increamental unfreezing and fine tuning"
      ],
      "metadata": {
        "id": "HDY36BQTIekw"
      },
      "execution_count": null,
      "outputs": []
    },
    {
      "cell_type": "code",
      "source": [
        "base_model = VGG19(include_top=False, input_shape=(240,240,3))\n",
        "base_model_layer_names = [layer.name for layer in base_model.layers]\n",
        "base_model_layer_names"
      ],
      "metadata": {
        "id": "zNfzjPCjIhqM"
      },
      "execution_count": null,
      "outputs": []
    },
    {
      "cell_type": "code",
      "source": [
        "base_model = VGG19(include_top=False, input_shape=(240,240,3))\n",
        "base_model_layer_names = [layer.name for layer in base_model.layers]\n",
        "base_model_layer_names\n",
        "\n",
        "x=base_model.output\n",
        "flat = Flatten()(x)\n",
        "\n",
        "class_1 = Dense(4608, activation = 'relu')(flat)\n",
        "drop_out = Dropout(0.2)(class_1)\n",
        "class_2 = Dense(1152, activation = 'relu')(drop_out)\n",
        "output = Dense(2, activation = 'softmax')(class_2)\n",
        "\n",
        "model_02 = Model(base_model.inputs, output)\n",
        "model_02.load_weights('model_weights/vgg19_model_01.h5')\n",
        "\n",
        "set_trainable=False\n",
        "for layer in base_model.layers:\n",
        "    if layer.name in ['block5_conv4','block5_conv3']:\n",
        "        set_trainable=True\n",
        "    if set_trainable:\n",
        "        layer.trainable=True\n",
        "    else:\n",
        "        layer.trainable=False\n",
        "\n",
        "print(model_02.summary())"
      ],
      "metadata": {
        "id": "ca6LtCdOIjgX"
      },
      "execution_count": null,
      "outputs": []
    },
    {
      "cell_type": "code",
      "source": [
        "sgd = SGD(learning_rate=0.0001, decay = 1e-6, momentum = 0.9, nesterov = True)\n",
        "model_02.compile(loss='categorical_crossentropy', optimizer = sgd, metrics=['accuracy'])"
      ],
      "metadata": {
        "id": "Y8LoD6NnIl4C"
      },
      "execution_count": null,
      "outputs": []
    },
    {
      "cell_type": "code",
      "source": [
        "history_02 = model_02.fit(train_generator, steps_per_epoch=10, epochs = 2, callbacks=[es,cp,lrr], validation_data=valid_generator)"
      ],
      "metadata": {
        "id": "LVfTK8bbIokS"
      },
      "execution_count": null,
      "outputs": []
    },
    {
      "cell_type": "code",
      "source": [
        "# Plot performance\n",
        "fig, (ax1,ax2) = plt.subplots(nrows=1, ncols=2, figsize=(12,6))\n",
        "fig.suptitle(\"Model Training (Frozen CNN)\", fontsize=12)\n",
        "max_epoch = len(history_01.history['accuracy'])+1\n",
        "epochs_list = list(range(1, max_epoch))\n",
        "\n",
        "ax1.plot(epochs_list, history_02.history['accuracy'], color='b', linestyle='-', label='Training Data')\n",
        "ax1.plot(epochs_list, history_02.history['val_accuracy'], color='r', linestyle='-', label='Validation Data')\n",
        "ax1.set_title('Training Accuracy', fontsize=12)\n",
        "ax1.set_xlabel('Epochs', fontsize=12)\n",
        "ax1.set_ylabel('Accuracy', fontsize=12)\n",
        "ax1.legend(frameon=False, loc='lower center', ncol=2)\n",
        "\n",
        "ax2.plot(epochs_list, history_02.history['loss'], color='b', linestyle='-', label='Training Data')\n",
        "ax2.plot(epochs_list, history_02.history['val_loss'], color='r', linestyle='-', label='Validation Data')\n",
        "ax2.set_title('Training Loss', fontsize=12)\n",
        "ax2.set_xlabel('Epochs', fontsize=12)\n",
        "ax2.set_ylabel('Loss', fontsize=12)\n",
        "ax2.legend(frameon=False, loc='upper center', ncol=2)\n",
        "plt.savefig(\"training_frozencnn.jpeg\", format='jpeg', dpi=100, bbox_inches='tight')"
      ],
      "metadata": {
        "id": "2X9793zWI0KC"
      },
      "execution_count": null,
      "outputs": []
    },
    {
      "cell_type": "code",
      "source": [
        "if not os.path.isdir('model_weights/'):\n",
        "    os.mkdir('model_weights/')\n",
        "model_02.save_weights(filepath=\"model_weights/vgg19_model_02.h5\", overwrite=True)"
      ],
      "metadata": {
        "id": "SgOZZ1NkI4yP"
      },
      "execution_count": null,
      "outputs": []
    },
    {
      "cell_type": "code",
      "source": [
        "model_02.load_weights(\"model_weights/vgg19_model_02.h5\")\n",
        "vgg_val_eval_02 = model_02.evaluate(valid_generator)\n",
        "vgg_test_eval_02 = model_02.evaluate(test_generator)"
      ],
      "metadata": {
        "id": "dVFq7azCI_ZG"
      },
      "execution_count": null,
      "outputs": []
    },
    {
      "cell_type": "code",
      "source": [
        "# Unfreezing the entire network"
      ],
      "metadata": {
        "id": "olW08X8YJDu-"
      },
      "execution_count": null,
      "outputs": []
    },
    {
      "cell_type": "code",
      "source": [
        "base_model = VGG19(include_top=False, input_shape=(240,240,3))\n",
        "base_model_layer_names = [layer.name for layer in base_model.layers]\n",
        "base_model_layer_names\n",
        "\n",
        "x=base_model.output\n",
        "flat = Flatten()(x)\n",
        "\n",
        "class_1 = Dense(4608, activation = 'relu')(flat)\n",
        "drop_out = Dropout(0.2)(class_1)\n",
        "class_2 = Dense(1152, activation = 'relu')(drop_out)\n",
        "output = Dense(2, activation = 'softmax')(class_2)\n",
        "\n",
        "model_03 = Model(base_model.inputs, output)\n",
        "model_03.load_weights('model_weights/vgg19_model_02.h5')\n",
        "\n",
        "sgd = SGD(learning_rate=0.0001, decay = 1e-6, momentum = 0.9, nesterov = True)\n",
        "model_03.compile(loss='categorical_crossentropy', optimizer = sgd, metrics=['accuracy'])"
      ],
      "metadata": {
        "id": "2yGKhoFIJEkH"
      },
      "execution_count": null,
      "outputs": []
    },
    {
      "cell_type": "code",
      "source": [
        "# history_03 = model_03.fit(train_generator, steps_per_epoch=10, epochs = 2, callbacks=[es,cp,lrr], validation_data=valid_generator)"
      ],
      "metadata": {
        "id": "wlJsATHCJJ6v"
      },
      "execution_count": null,
      "outputs": []
    },
    {
      "cell_type": "code",
      "source": [
        "model_03.load_weights(\"model_weights/vgg_unfrozen.h5\")\n",
        "vgg_val_eval_03 = model_03.evaluate(valid_generator)\n",
        "vgg_test_eval_03 = model_03.evaluate(test_generator)"
      ],
      "metadata": {
        "id": "DEL_-9DOJXo7"
      },
      "execution_count": null,
      "outputs": []
    },
    {
      "cell_type": "code",
      "source": [
        "# Google Colab"
      ],
      "metadata": {
        "id": "D0xWJ5QoJbOR"
      },
      "execution_count": null,
      "outputs": []
    }
  ]
}